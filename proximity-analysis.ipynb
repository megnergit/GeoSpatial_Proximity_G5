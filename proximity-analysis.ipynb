{
 "cells": [
  {
   "cell_type": "markdown",
   "metadata": {},
   "source": [
    "------------------------------------------------------------------\n",
    " # Geospatial Data Exercise\n",
    "------------------------------------------------------------------\n",
    "\n",
    " This is a notebook for the fifth lesson of the kaggle course\n",
    " [\"Geospatial Analysis\"](https://www.kaggle.com/learn/geospatial-analysis)\n",
    " offered by Alexis Cook and Jessica Li. The main goal of the lesson is\n",
    " to get used to __Proximity Analysis__, using `geopandas` methods such as\n",
    " `.distance`, `.contains` or `.within`. We also learn how to use\n",
    " `.unary_union` to connect multiple `POLYGON`s into one."
   ]
  },
  {
   "cell_type": "markdown",
   "metadata": {},
   "source": [
    "## 1. Task\n",
    "\n",
    " Every year certain amount of toxic chemicals are accidentally\n",
    " released to the environment by industrial facilities and other.\n",
    " Check if at least one monitoring station exists\n",
    " within 2 miles of such events, using the historical record.\n",
    " The information will be used to make a decision where to set up next\n",
    " monitoring stations to fully cover the potential emission events."
   ]
  },
  {
   "cell_type": "markdown",
   "metadata": {},
   "source": [
    "## 2. Data\n",
    "\n",
    " 1. Historical record of the releases of toxic chemicals in\n",
    " Philadelphia, Pennsylvania documented by\n",
    " the US Environmental Protection Agency (EPA).\n",
    "\n",
    " 2. Locations of the environmental monitoring stations in Philadelphia,\n",
    " including\n",
    "  the list of chemicals that the station is sensitive.\n",
    "\n",
    " 3. General underlying  map."
   ]
  },
  {
   "cell_type": "markdown",
   "metadata": {},
   "source": [
    "## 3. Notebook"
   ]
  },
  {
   "cell_type": "markdown",
   "metadata": {},
   "source": [
    "Import packages."
   ]
  },
  {
   "cell_type": "code",
   "execution_count": null,
   "metadata": {},
   "outputs": [],
   "source": [
    "import folium\n",
    "import numpy as np\n",
    "from folium import Marker, GeoJson\n",
    "from folium.plugins import HeatMap\n",
    "import pandas as pd\n",
    "import geopandas as gpd\n",
    "import plotly.graph_objs as go\n",
    "from kaggle_geospatial.kgsp import *\n",
    "import os\n",
    "from pathlib import Path"
   ]
  },
  {
   "cell_type": "markdown",
   "metadata": {},
   "source": [
    "Set up some directories."
   ]
  },
  {
   "cell_type": "code",
   "execution_count": null,
   "metadata": {},
   "outputs": [],
   "source": [
    "CWD = '/Users/meg/git6/distance/'\n",
    "DATA_DIR = '../input/geospatial-learn-course-data/'\n",
    "KAGGLE_DIR = 'alexisbcook/geospatial-learn-course-data'\n",
    "GEO_DIR = 'geospatial-learn-course-data'\n",
    "\n",
    "os.chdir(CWD)\n",
    "\n",
    "set_cwd(CWD)\n",
    "set_data_dir(DATA_DIR, KAGGLE_DIR, GEO_DIR, CWD)\n",
    "show_whole_dataframe(True)"
   ]
  },
  {
   "cell_type": "markdown",
   "metadata": {},
   "source": [
    "Read the historic record of the release of the toxic chemicals."
   ]
  },
  {
   "cell_type": "code",
   "execution_count": null,
   "metadata": {},
   "outputs": [],
   "source": [
    "releases_dir = DATA_DIR + 'toxic_release_pennsylvania/toxic_release_pennsylvania/'\n",
    "releases = gpd.read_file(releases_dir + 'toxic_release_pennsylvania.shp')\n",
    "\n",
    "print(releases.info())\n",
    "releases.head(3)"
   ]
  },
  {
   "cell_type": "markdown",
   "metadata": {},
   "source": [
    "Read the locations and sensitive chemicals of monitoring stations."
   ]
  },
  {
   "cell_type": "code",
   "execution_count": null,
   "metadata": {},
   "outputs": [],
   "source": [
    "stations_dir = DATA_DIR + \\\n",
    "    'PhillyHealth_Air_Monitoring_Stations/PhillyHealth_Air_Monitoring_Stations/'\n",
    "stations = gpd.read_file(\n",
    "    stations_dir + 'PhillyHealth_Air_Monitoring_Stations.shp')\n",
    "\n",
    "print(stations.info())\n",
    "stations.head(3)"
   ]
  },
  {
   "cell_type": "markdown",
   "metadata": {},
   "source": [
    "Let us first play with `releases` record to get familiar with the data."
   ]
  },
  {
   "cell_type": "code",
   "execution_count": null,
   "metadata": {},
   "outputs": [],
   "source": [
    "released_chemicals = releases.groupby(['CHEMICAL', 'UNIT_OF_ME']).sum().loc[:, [\n",
    "    'TOTAL_RELE']].reset_index(level=1).sort_values('TOTAL_RELE', ascending=False)\n",
    "\n",
    "print(len(released_chemicals))"
   ]
  },
  {
   "cell_type": "markdown",
   "metadata": {},
   "source": [
    "There are 138 different chemicals recorded in the past.\n",
    " Except 'DIOXIN AND DIOXIN-LIKE COMPOUNDS', which is measured by Grams,\n",
    " the units of all chemicals are Pounds.\n",
    "\n",
    " Let us take a look at yearly record of Dioxin release."
   ]
  },
  {
   "cell_type": "code",
   "execution_count": null,
   "metadata": {},
   "outputs": [],
   "source": [
    "r_dioxin = releases[releases['CHEMICAL'] == 'DIOXIN AND DIOXIN-LIKE COMPOUNDS']\n",
    "r_dioxin_yearly = r_dioxin.groupby('YEAR').sum()[['TOTAL_RELE']]\n",
    "\n",
    "# Drop the dioxin record.\n",
    "r_pounds = releases[releases['CHEMICAL'] != 'DIOXIN AND DIOXIN-LIKE COMPOUNDS']"
   ]
  },
  {
   "cell_type": "code",
   "execution_count": null,
   "metadata": {},
   "outputs": [],
   "source": [
    "#  Show it in bar plot.\n",
    "\n",
    "trace = go.Bar(x=r_dioxin_yearly.index,\n",
    "               y=r_dioxin_yearly['TOTAL_RELE'])\n",
    "\n",
    "data = [trace]\n",
    "\n",
    "layout = go.Layout(height=1024, width=1024,\n",
    "                   font=dict(size=20),\n",
    "                   xaxis=dict(title=dict(text='Year')),\n",
    "                   yaxis=dict(title=dict(\n",
    "                       text='DIOXIN AND DIOXIN-LIKE COMPOUNDS [Grams]')),\n",
    "                   showlegend=False)\n",
    "\n",
    "fig = go.Figure(data=data, layout=layout)"
   ]
  },
  {
   "cell_type": "code",
   "execution_count": null,
   "metadata": {},
   "outputs": [],
   "source": [
    "embed_plot(fig, './html/p_1.html')"
   ]
  },
  {
   "cell_type": "code",
   "execution_count": null,
   "metadata": {},
   "outputs": [],
   "source": [
    "fig.show()"
   ]
  },
  {
   "cell_type": "markdown",
   "metadata": {},
   "source": [
    "1. Dioxin release peaked in 2003, and is steadily\n",
    " decreasing since then. The release in 2006 is 0.1 g in total\n",
    " and about 1/7 of the worst year."
   ]
  },
  {
   "cell_type": "markdown",
   "metadata": {},
   "source": [
    "We shall look at 10 most heavily released chemicals."
   ]
  },
  {
   "cell_type": "code",
   "execution_count": null,
   "metadata": {},
   "outputs": [],
   "source": [
    "released_chemicals_top = released_chemicals.iloc[:10]\n",
    "r = released_chemicals_top.sort_values('TOTAL_RELE')\n",
    "\n",
    "trace = go.Bar(y=r.index, x=r['TOTAL_RELE'], orientation='h')\n",
    "data = [trace]\n",
    "\n",
    "layout = go.Layout(height=512, width=1280,\n",
    "                   font=dict(size=20),\n",
    "                   xaxis=dict(title=dict(\n",
    "                       text='Most Heavily Emitted Chemicals [Pounds]')),\n",
    "                   showlegend=False)\n",
    "\n",
    "fig = go.Figure(data=data, layout=layout)"
   ]
  },
  {
   "cell_type": "code",
   "execution_count": null,
   "metadata": {},
   "outputs": [],
   "source": [
    "embed_plot(fig, './html/p_2.html')"
   ]
  },
  {
   "cell_type": "code",
   "execution_count": null,
   "metadata": {},
   "outputs": [],
   "source": [
    "fig.show()"
   ]
  },
  {
   "cell_type": "markdown",
   "metadata": {},
   "source": [
    "1. All-time worst three are\n",
    " - TOLUEN\n",
    " - CUMENE\n",
    " - METHYL ETHYL KETONE"
   ]
  },
  {
   "cell_type": "markdown",
   "metadata": {},
   "source": [
    "How is the trend of the total amount of release?"
   ]
  },
  {
   "cell_type": "code",
   "execution_count": null,
   "metadata": {},
   "outputs": [],
   "source": [
    "r_yearly = pd.DataFrame(r_pounds.groupby(['YEAR']).sum()['TOTAL_RELE'])\n",
    "\n",
    "trace = go.Bar(x=r_yearly.index,\n",
    "               y=r_yearly['TOTAL_RELE'])\n",
    "\n",
    "data = [trace]\n",
    "\n",
    "layout = go.Layout(height=640, width=1280,\n",
    "                   font=dict(size=18),\n",
    "                   xaxis=dict(title=dict(text='[Year]')),\n",
    "                   yaxis=dict(title=dict(text='Total Emission of Chemicals [Pounds]')))\n",
    "\n",
    "fig = go.Figure(data=data, layout=layout)"
   ]
  },
  {
   "cell_type": "code",
   "execution_count": null,
   "metadata": {},
   "outputs": [],
   "source": [
    "embed_plot(fig, './html/p_3.html')"
   ]
  },
  {
   "cell_type": "code",
   "execution_count": null,
   "metadata": {},
   "outputs": [],
   "source": [
    "fig.show()"
   ]
  },
  {
   "cell_type": "markdown",
   "metadata": {},
   "source": [
    "1. An anomaly is seen in 1992. The record this year is\n",
    " apparently incomplete."
   ]
  },
  {
   "cell_type": "markdown",
   "metadata": {},
   "source": [
    "2. The total amount of emission of chemicals peaked in 1988, nearly\n",
    " reaching 10 million pounds a year."
   ]
  },
  {
   "cell_type": "markdown",
   "metadata": {},
   "source": [
    "3. Since then, the release of toxic chemicals steadily decreased\n",
    " until 2000, to 1 million pounds a year."
   ]
  },
  {
   "cell_type": "markdown",
   "metadata": {},
   "source": [
    "4. Last 16 years, the total emission stays about same,\n",
    " ~1 million pounds a year."
   ]
  },
  {
   "cell_type": "markdown",
   "metadata": {},
   "source": [
    "Show what chemicals were most heavily released in each year.\n",
    " We set the cut-off amount to 10,000 Pounds."
   ]
  },
  {
   "cell_type": "code",
   "execution_count": null,
   "metadata": {},
   "outputs": [],
   "source": [
    "rele_limit = 10_000\n",
    "r_pounds_limit = r_pounds[r_pounds['TOTAL_RELE'] >= rele_limit]\n",
    "\n",
    "r_chem_yearly = pd.DataFrame(r_pounds_limit.groupby(\n",
    "    ['YEAR', 'CHEMICAL']).sum()['TOTAL_RELE']).reset_index()\n",
    "\n",
    "r_chem_yearly = r_chem_yearly.pivot(\n",
    "    index='YEAR', columns='CHEMICAL', values='TOTAL_RELE').fillna(0)"
   ]
  },
  {
   "cell_type": "markdown",
   "metadata": {},
   "source": [
    "Show it in a stacked bar plot."
   ]
  },
  {
   "cell_type": "code",
   "execution_count": null,
   "metadata": {},
   "outputs": [],
   "source": [
    "chem_list = r_pounds_limit['CHEMICAL'].unique()\n",
    "data = []\n",
    "for c in chem_list:\n",
    "    trace = go.Bar(y=r_chem_yearly.index,\n",
    "                   x=r_chem_yearly[c], orientation='h', name=c, hovertext=c)\n",
    "    data.append(trace)\n",
    "\n",
    "layout = go.Layout(height=1600, width=1600,\n",
    "                   xaxis=dict(\n",
    "                       title=dict(text='Released Chemicals [Pounds]')), barmode='stack')\n",
    "\n",
    "fig = go.Figure(data=data, layout=layout)"
   ]
  },
  {
   "cell_type": "code",
   "execution_count": null,
   "metadata": {},
   "outputs": [],
   "source": [
    "embed_plot(fig, './html/p_4.html')"
   ]
  },
  {
   "cell_type": "code",
   "execution_count": null,
   "metadata": {},
   "outputs": [],
   "source": [
    "fig.show()"
   ]
  },
  {
   "cell_type": "markdown",
   "metadata": {},
   "source": [
    "1. Sharp decrease of\n",
    "\n",
    " * CUMENE\n",
    " * TOLUENE\n",
    " * ACETONE\n",
    " * DICHLOROMETHANE\n",
    " * METHYL ETHYL KETONE\n",
    "\n",
    " in 1980-1990 contributed the total decrease of the emitted chemicals."
   ]
  },
  {
   "cell_type": "markdown",
   "metadata": {},
   "source": [
    "2. Most problematic checmicals after 2000 are\n",
    "\n",
    " * SULFURIC ACID\n",
    " * PHENOL\n",
    " * XYLENE"
   ]
  },
  {
   "cell_type": "markdown",
   "metadata": {},
   "source": [
    "We come back to the original task here, and\n",
    " measure the distances to the monitoring stations\n",
    " when a chemical release happened."
   ]
  },
  {
   "cell_type": "markdown",
   "metadata": {},
   "source": [
    "First, check CRS."
   ]
  },
  {
   "cell_type": "code",
   "execution_count": null,
   "metadata": {},
   "outputs": [],
   "source": [
    "releases.crs\n",
    "stations.crs\n",
    "releases.crs == stations.crs"
   ]
  },
  {
   "cell_type": "markdown",
   "metadata": {},
   "source": [
    "The units are feet."
   ]
  },
  {
   "cell_type": "markdown",
   "metadata": {},
   "source": [
    "Experiment with `.distance`."
   ]
  },
  {
   "cell_type": "code",
   "execution_count": null,
   "metadata": {},
   "outputs": [],
   "source": [
    "stations['geometry'].distance(releases['geometry'])\n",
    "len(stations)"
   ]
  },
  {
   "cell_type": "markdown",
   "metadata": {},
   "source": [
    "Note that the above command compare the first 12 rows of `releases`\n",
    " with the first 12 rows of `stations` (= whole length of `stations`)."
   ]
  },
  {
   "cell_type": "markdown",
   "metadata": {},
   "source": [
    "Add following information to each emission event.\n",
    "\n",
    " *  mean distance to the stations (over 12 stations).\n",
    " *  name of the nearest station.\n",
    " *  distance to the nearest station."
   ]
  },
  {
   "cell_type": "code",
   "execution_count": null,
   "metadata": {},
   "outputs": [],
   "source": [
    "stations.head(3)\n",
    "releases.head(3)"
   ]
  },
  {
   "cell_type": "markdown",
   "metadata": {},
   "source": [
    "We will focus on the latest records of the release, i.e., in the year 2006.\n",
    " Note that 'YEAR' is in string."
   ]
  },
  {
   "cell_type": "code",
   "execution_count": null,
   "metadata": {},
   "outputs": [],
   "source": [
    "r_recent = releases[releases['YEAR'] == '2006']\n",
    "r_recent.info()\n",
    "r_recent.head(3)\n",
    "\n",
    "r_recent['NEAREST_STA'] = ''\n",
    "r_recent['DISTANCE'] = 0.0\n",
    "r_recent['DISTANCE_MEAN'] = 0.0\n",
    "\n",
    "for i, r in r_recent.iterrows():\n",
    "    r_recent.loc[i, 'NEAREST_STA'] = stations.iloc[stations['geometry'].distance(\n",
    "        r['geometry']).idxmin()]['SITE_NAME']\n",
    "\n",
    "    r_recent.loc[i, 'DISTANCE'] = stations['geometry'].distance(\n",
    "        r['geometry']).min()\n",
    "\n",
    "    r_recent.loc[i, 'DISTANCE_MEAN'] = stations['geometry'].distance(\n",
    "        r['geometry']).mean()\n",
    "\n",
    "\n",
    "print(r_recent.info())\n",
    "r_recent.head(3)"
   ]
  },
  {
   "cell_type": "markdown",
   "metadata": {},
   "source": [
    "Create 2 miles buffer around the stations. 1 mile = 5280 feet.\n",
    " 5280 = five tomatoes = \"five two m-eight oh-s\"."
   ]
  },
  {
   "cell_type": "code",
   "execution_count": null,
   "metadata": {},
   "outputs": [],
   "source": [
    "two_mile_buffer = gpd.GeoDataFrame(geometry=stations.buffer(2*5280))\n",
    "\n",
    "two_mile_buffer = two_mile_buffer.to_crs(epsg=4326)\n",
    "type(two_mile_buffer)\n",
    "two_mile_buffer.head(3)"
   ]
  },
  {
   "cell_type": "markdown",
   "metadata": {},
   "source": [
    "`POINT` in `stations` are now converted to `POLYGON`."
   ]
  },
  {
   "cell_type": "markdown",
   "metadata": {},
   "source": [
    "Set up the center of the map, tiles, and the initial zoom-factor."
   ]
  },
  {
   "cell_type": "code",
   "execution_count": null,
   "metadata": {},
   "outputs": [],
   "source": [
    "center = [releases['LATITUDE'].mean(), releases['LONGITUDE'].mean()]\n",
    "tiles = 'openstreetmap'\n",
    "tiles = 'stamen terrain'\n",
    "# tiles = 'cartodbpositron'\n",
    "zoom = 13"
   ]
  },
  {
   "cell_type": "markdown",
   "metadata": {},
   "source": [
    "Show each of 2-miles buffer without combining them."
   ]
  },
  {
   "cell_type": "code",
   "execution_count": null,
   "metadata": {},
   "outputs": [],
   "source": [
    "def style_function(x):\n",
    "\n",
    "    return {'fillColor': 'salmon',\n",
    "            'stroke': True, 'color': 'salmon', 'weight': 8,\n",
    "            'fillOpacity': 0.2}  # 'dashArray' :  '5,5'\n",
    "\n",
    "\n",
    "m_1 = folium.Map(location=center, tiles=tiles, zoom_start=zoom)\n",
    "GeoJson(data=two_mile_buffer.__geo_interface__,\n",
    "        style_function=style_function).add_to(m_1)"
   ]
  },
  {
   "cell_type": "code",
   "execution_count": null,
   "metadata": {},
   "outputs": [],
   "source": [
    "embed_map(m_1, './html/m_1.html')"
   ]
  },
  {
   "cell_type": "code",
   "execution_count": null,
   "metadata": {},
   "outputs": [],
   "source": [
    "show_on_browser(m_1, CWD + './html/m_1b.html')"
   ]
  },
  {
   "cell_type": "markdown",
   "metadata": {},
   "source": [
    "Show `unary_union` of 2-miles buffers."
   ]
  },
  {
   "cell_type": "code",
   "execution_count": null,
   "metadata": {},
   "outputs": [],
   "source": [
    "two_mile_union = two_mile_buffer['geometry'].unary_union\n",
    "\n",
    "m_2 = folium.Map(location=center, tiles=tiles, zoom_start=zoom)\n",
    "GeoJson(data=two_mile_union.__geo_interface__,\n",
    "        style_function=style_function).add_to(m_2)"
   ]
  },
  {
   "cell_type": "code",
   "execution_count": null,
   "metadata": {},
   "outputs": [],
   "source": [
    "embed_map(m_2, './html/m_2.html')"
   ]
  },
  {
   "cell_type": "code",
   "execution_count": null,
   "metadata": {},
   "outputs": [],
   "source": [
    "show_on_browser(m_2, CWD + './html/m_2b.html')"
   ]
  },
  {
   "cell_type": "markdown",
   "metadata": {},
   "source": [
    "Show a heatmap of the historical releases of toxic chemicals\n",
    " with the unary union boundary we created above."
   ]
  },
  {
   "cell_type": "code",
   "execution_count": null,
   "metadata": {},
   "outputs": [],
   "source": [
    "m_3 = folium.Map(location=center, tiles=tiles, zoom_start=zoom)\n",
    "\n",
    "HeatMap(data=releases[['LATITUDE', 'LONGITUDE']],\n",
    "        radius=30,\n",
    "        min_opacity=0.3\n",
    "        ).add_to(m_3)\n",
    "\n",
    "junk = [Marker([s['LATITUDE'], s['LONGITUDE']], tooltip=s['SITE_NAME'],\n",
    "               popup=s['ADDRESS']).add_to(m_3) for i, s in stations.iterrows()]\n",
    "\n",
    "GeoJson(data=two_mile_union.__geo_interface__,\n",
    "        style_function=style_function).add_to(m_3)\n",
    "\n",
    "embed_map(m_3, './html/m_2.html')"
   ]
  },
  {
   "cell_type": "code",
   "execution_count": null,
   "metadata": {},
   "outputs": [],
   "source": [
    "show_on_browser(m_3, CWD + './html/m_2b.html')"
   ]
  },
  {
   "cell_type": "markdown",
   "metadata": {},
   "source": [
    "## 4. Conclusion\n",
    "\n",
    " 1. There is a concentration of 4-5 stations in the city center\n",
    "    Philadelphia in a densely distributed manner\n",
    "\n",
    " 2. However, the sources of toxic emissions, presumably factories\n",
    " in the industrial regions, tend to be located outside a city.\n",
    "\n",
    " 3. At least two new monitoring stations are necessary.\n",
    "\n",
    "  - One on the other side of the river from Riverton.\n",
    "  - One between the station 'NEA' (Grant Avenue and Ashton Street)\n",
    "    and the interstate 276.\n",
    "\n",
    " -------------------------------------------------------\n",
    " END"
   ]
  }
 ],
 "metadata": {},
 "nbformat": 4,
 "nbformat_minor": 4
}
